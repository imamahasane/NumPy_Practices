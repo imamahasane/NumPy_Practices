{
 "cells": [
  {
   "cell_type": "code",
   "execution_count": 60,
   "id": "aba9d7f6",
   "metadata": {},
   "outputs": [],
   "source": [
    "import numpy as np"
   ]
  },
  {
   "cell_type": "markdown",
   "id": "8e6d16c9",
   "metadata": {},
   "source": [
    "## single dimensional array"
   ]
  },
  {
   "cell_type": "code",
   "execution_count": 61,
   "id": "e2438682",
   "metadata": {},
   "outputs": [
    {
     "data": {
      "text/plain": [
       "array([12, 21, 31, 41, 51])"
      ]
     },
     "execution_count": 61,
     "metadata": {},
     "output_type": "execute_result"
    }
   ],
   "source": [
    "sda = np.array([12, 21, 31, 41, 51])\n",
    "sda"
   ]
  },
  {
   "cell_type": "code",
   "execution_count": 62,
   "id": "b5eee320",
   "metadata": {},
   "outputs": [
    {
     "data": {
      "text/plain": [
       "numpy.ndarray"
      ]
     },
     "execution_count": 62,
     "metadata": {},
     "output_type": "execute_result"
    }
   ],
   "source": [
    "type(sda)"
   ]
  },
  {
   "cell_type": "markdown",
   "id": "17a2fd53",
   "metadata": {},
   "source": [
    "## multi dimensional array"
   ]
  },
  {
   "cell_type": "code",
   "execution_count": 63,
   "id": "409cdf01",
   "metadata": {},
   "outputs": [
    {
     "data": {
      "text/plain": [
       "array([[12, 21, 31, 41, 51],\n",
       "       [ 1,  5,  8,  9,  3]])"
      ]
     },
     "execution_count": 63,
     "metadata": {},
     "output_type": "execute_result"
    }
   ],
   "source": [
    "mda = np.array([[12, 21, 31, 41, 51], [1, 5, 8, 9, 3]])\n",
    "mda"
   ]
  },
  {
   "cell_type": "code",
   "execution_count": 64,
   "id": "b2546437",
   "metadata": {},
   "outputs": [
    {
     "data": {
      "text/plain": [
       "numpy.ndarray"
      ]
     },
     "execution_count": 64,
     "metadata": {},
     "output_type": "execute_result"
    }
   ],
   "source": [
    "type(mda)"
   ]
  },
  {
   "cell_type": "markdown",
   "id": "a78d0f68",
   "metadata": {},
   "source": [
    "## initialize numpy array"
   ]
  },
  {
   "cell_type": "code",
   "execution_count": 65,
   "id": "947dabc7",
   "metadata": {},
   "outputs": [
    {
     "data": {
      "text/plain": [
       "array([[0., 0.]])"
      ]
     },
     "execution_count": 65,
     "metadata": {},
     "output_type": "execute_result"
    }
   ],
   "source": [
    "ina = np.zeros((1, 2))\n",
    "ina"
   ]
  },
  {
   "cell_type": "code",
   "execution_count": 66,
   "id": "c71b5415",
   "metadata": {},
   "outputs": [
    {
     "data": {
      "text/plain": [
       "array([[0., 0., 0., 0., 0., 0., 0.],\n",
       "       [0., 0., 0., 0., 0., 0., 0.],\n",
       "       [0., 0., 0., 0., 0., 0., 0.],\n",
       "       [0., 0., 0., 0., 0., 0., 0.],\n",
       "       [0., 0., 0., 0., 0., 0., 0.],\n",
       "       [0., 0., 0., 0., 0., 0., 0.],\n",
       "       [0., 0., 0., 0., 0., 0., 0.]])"
      ]
     },
     "execution_count": 66,
     "metadata": {},
     "output_type": "execute_result"
    }
   ],
   "source": [
    "ina = np.zeros((7, 7))\n",
    "ina"
   ]
  },
  {
   "cell_type": "code",
   "execution_count": 67,
   "id": "8fef98b9",
   "metadata": {},
   "outputs": [
    {
     "data": {
      "text/plain": [
       "array([[10, 10, 10, 10, 10, 10, 10, 10, 10, 10],\n",
       "       [10, 10, 10, 10, 10, 10, 10, 10, 10, 10],\n",
       "       [10, 10, 10, 10, 10, 10, 10, 10, 10, 10],\n",
       "       [10, 10, 10, 10, 10, 10, 10, 10, 10, 10],\n",
       "       [10, 10, 10, 10, 10, 10, 10, 10, 10, 10],\n",
       "       [10, 10, 10, 10, 10, 10, 10, 10, 10, 10],\n",
       "       [10, 10, 10, 10, 10, 10, 10, 10, 10, 10],\n",
       "       [10, 10, 10, 10, 10, 10, 10, 10, 10, 10],\n",
       "       [10, 10, 10, 10, 10, 10, 10, 10, 10, 10],\n",
       "       [10, 10, 10, 10, 10, 10, 10, 10, 10, 10]])"
      ]
     },
     "execution_count": 67,
     "metadata": {},
     "output_type": "execute_result"
    }
   ],
   "source": [
    "ina = np.full((10, 10), 10)\n",
    "ina"
   ]
  },
  {
   "cell_type": "code",
   "execution_count": 68,
   "id": "144de7f5",
   "metadata": {},
   "outputs": [
    {
     "data": {
      "text/plain": [
       "array([ 1,  2,  3,  4,  5,  6,  7,  8,  9, 10, 11, 12, 13, 14, 15, 16, 17,\n",
       "       18, 19, 20, 21, 22, 23, 24, 25, 26, 27, 28, 29])"
      ]
     },
     "execution_count": 68,
     "metadata": {},
     "output_type": "execute_result"
    }
   ],
   "source": [
    "ina = np.arange(1, 30)\n",
    "ina"
   ]
  },
  {
   "cell_type": "code",
   "execution_count": 69,
   "id": "03f18529",
   "metadata": {},
   "outputs": [
    {
     "data": {
      "text/plain": [
       "array([  1,   6,  11,  16,  21,  26,  31,  36,  41,  46,  51,  56,  61,\n",
       "        66,  71,  76,  81,  86,  91,  96, 101, 106, 111, 116, 121, 126,\n",
       "       131, 136, 141, 146, 151, 156, 161, 166, 171, 176, 181, 186, 191,\n",
       "       196, 201, 206, 211, 216, 221, 226, 231, 236, 241, 246, 251, 256,\n",
       "       261, 266, 271, 276, 281, 286, 291, 296])"
      ]
     },
     "execution_count": 69,
     "metadata": {},
     "output_type": "execute_result"
    }
   ],
   "source": [
    "ina = np.arange(1, 300, 5)\n",
    "ina"
   ]
  },
  {
   "cell_type": "code",
   "execution_count": 70,
   "id": "4a2d9540",
   "metadata": {},
   "outputs": [
    {
     "data": {
      "text/plain": [
       "array([ 9, 71, 86, 40, 74])"
      ]
     },
     "execution_count": 70,
     "metadata": {},
     "output_type": "execute_result"
    }
   ],
   "source": [
    "irn = np.random.randint(1, 100, 5)\n",
    "irn"
   ]
  },
  {
   "cell_type": "code",
   "execution_count": 71,
   "id": "83fc93ed",
   "metadata": {},
   "outputs": [
    {
     "data": {
      "text/plain": [
       "array([ 8152,  3018,  7024,  4570, 10409,  4093,  2896,  2234,  8395,\n",
       "        6335])"
      ]
     },
     "execution_count": 71,
     "metadata": {},
     "output_type": "execute_result"
    }
   ],
   "source": [
    "irn = np.random.randint(100, 11000, 10)\n",
    "irn"
   ]
  },
  {
   "cell_type": "markdown",
   "id": "cfc36ea6",
   "metadata": {},
   "source": [
    "## check the shape of numpy array"
   ]
  },
  {
   "cell_type": "code",
   "execution_count": 72,
   "id": "a2e13b8a",
   "metadata": {},
   "outputs": [
    {
     "data": {
      "text/plain": [
       "(2, 5)"
      ]
     },
     "execution_count": 72,
     "metadata": {},
     "output_type": "execute_result"
    }
   ],
   "source": [
    "csna = np.array([[1, 2, 3, 4, 5], [6, 7, 8, 9, 11]])\n",
    "csna.shape"
   ]
  },
  {
   "cell_type": "code",
   "execution_count": 73,
   "id": "715cb2ac",
   "metadata": {},
   "outputs": [],
   "source": [
    "csna.shape = (5, 2)"
   ]
  },
  {
   "cell_type": "code",
   "execution_count": 74,
   "id": "aa6458ae",
   "metadata": {},
   "outputs": [
    {
     "data": {
      "text/plain": [
       "array([[ 1,  2],\n",
       "       [ 3,  4],\n",
       "       [ 5,  6],\n",
       "       [ 7,  8],\n",
       "       [ 9, 11]])"
      ]
     },
     "execution_count": 74,
     "metadata": {},
     "output_type": "execute_result"
    }
   ],
   "source": [
    "csna"
   ]
  },
  {
   "cell_type": "code",
   "execution_count": 79,
   "id": "81f93d29",
   "metadata": {},
   "outputs": [],
   "source": [
    "csna.shape = (10, 1)"
   ]
  },
  {
   "cell_type": "code",
   "execution_count": 80,
   "id": "b4fb24f4",
   "metadata": {},
   "outputs": [
    {
     "data": {
      "text/plain": [
       "array([[ 1],\n",
       "       [ 2],\n",
       "       [ 3],\n",
       "       [ 4],\n",
       "       [ 5],\n",
       "       [ 6],\n",
       "       [ 7],\n",
       "       [ 8],\n",
       "       [ 9],\n",
       "       [11]])"
      ]
     },
     "execution_count": 80,
     "metadata": {},
     "output_type": "execute_result"
    }
   ],
   "source": [
    "csna"
   ]
  },
  {
   "cell_type": "markdown",
   "id": "470f2fab",
   "metadata": {},
   "source": [
    "## joining numpy arrays"
   ]
  },
  {
   "cell_type": "code",
   "execution_count": null,
   "id": "98220bc9",
   "metadata": {},
   "outputs": [],
   "source": []
  }
 ],
 "metadata": {
  "kernelspec": {
   "display_name": "Python 3 (ipykernel)",
   "language": "python",
   "name": "python3"
  },
  "language_info": {
   "codemirror_mode": {
    "name": "ipython",
    "version": 3
   },
   "file_extension": ".py",
   "mimetype": "text/x-python",
   "name": "python",
   "nbconvert_exporter": "python",
   "pygments_lexer": "ipython3",
   "version": "3.8.8"
  }
 },
 "nbformat": 4,
 "nbformat_minor": 5
}
