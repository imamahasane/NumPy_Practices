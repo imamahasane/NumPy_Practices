{
 "cells": [
  {
   "cell_type": "code",
   "execution_count": 103,
   "id": "aba9d7f6",
   "metadata": {},
   "outputs": [],
   "source": [
    "import numpy as np"
   ]
  },
  {
   "cell_type": "markdown",
   "id": "8b4e4f7c",
   "metadata": {},
   "source": [
    "# single dimensional array"
   ]
  },
  {
   "cell_type": "code",
   "execution_count": 104,
   "id": "9e05c7c2",
   "metadata": {},
   "outputs": [
    {
     "data": {
      "text/plain": [
       "array([12, 21, 31, 41, 51])"
      ]
     },
     "execution_count": 104,
     "metadata": {},
     "output_type": "execute_result"
    }
   ],
   "source": [
    "sda = np.array([12, 21, 31, 41, 51])\n",
    "sda"
   ]
  },
  {
   "cell_type": "code",
   "execution_count": 105,
   "id": "8ae85949",
   "metadata": {},
   "outputs": [
    {
     "data": {
      "text/plain": [
       "numpy.ndarray"
      ]
     },
     "execution_count": 105,
     "metadata": {},
     "output_type": "execute_result"
    }
   ],
   "source": [
    "type(sda)"
   ]
  },
  {
   "cell_type": "markdown",
   "id": "85e699b1",
   "metadata": {},
   "source": [
    "# multi dimensional array"
   ]
  },
  {
   "cell_type": "code",
   "execution_count": 106,
   "id": "a69c1ac0",
   "metadata": {},
   "outputs": [
    {
     "data": {
      "text/plain": [
       "array([[12, 21, 31, 41, 51],\n",
       "       [ 1,  5,  8,  9,  3]])"
      ]
     },
     "execution_count": 106,
     "metadata": {},
     "output_type": "execute_result"
    }
   ],
   "source": [
    "mda = np.array([[12, 21, 31, 41, 51], [1, 5, 8, 9, 3]])\n",
    "mda"
   ]
  },
  {
   "cell_type": "code",
   "execution_count": 107,
   "id": "6e1a4b89",
   "metadata": {},
   "outputs": [
    {
     "data": {
      "text/plain": [
       "numpy.ndarray"
      ]
     },
     "execution_count": 107,
     "metadata": {},
     "output_type": "execute_result"
    }
   ],
   "source": [
    "type(mda)"
   ]
  },
  {
   "cell_type": "markdown",
   "id": "ad5b9d37",
   "metadata": {},
   "source": [
    "# initialize numpy array"
   ]
  },
  {
   "cell_type": "code",
   "execution_count": 108,
   "id": "ec2b1691",
   "metadata": {},
   "outputs": [
    {
     "data": {
      "text/plain": [
       "array([[0., 0.]])"
      ]
     },
     "execution_count": 108,
     "metadata": {},
     "output_type": "execute_result"
    }
   ],
   "source": [
    "ina = np.zeros((1, 2))\n",
    "ina"
   ]
  },
  {
   "cell_type": "code",
   "execution_count": 109,
   "id": "fbfd18da",
   "metadata": {},
   "outputs": [
    {
     "data": {
      "text/plain": [
       "array([[0., 0., 0., 0., 0., 0., 0.],\n",
       "       [0., 0., 0., 0., 0., 0., 0.],\n",
       "       [0., 0., 0., 0., 0., 0., 0.],\n",
       "       [0., 0., 0., 0., 0., 0., 0.],\n",
       "       [0., 0., 0., 0., 0., 0., 0.],\n",
       "       [0., 0., 0., 0., 0., 0., 0.],\n",
       "       [0., 0., 0., 0., 0., 0., 0.]])"
      ]
     },
     "execution_count": 109,
     "metadata": {},
     "output_type": "execute_result"
    }
   ],
   "source": [
    "ina = np.zeros((7, 7))\n",
    "ina"
   ]
  },
  {
   "cell_type": "code",
   "execution_count": 110,
   "id": "30219b13",
   "metadata": {},
   "outputs": [
    {
     "data": {
      "text/plain": [
       "array([[10, 10, 10, 10, 10, 10, 10, 10, 10, 10],\n",
       "       [10, 10, 10, 10, 10, 10, 10, 10, 10, 10],\n",
       "       [10, 10, 10, 10, 10, 10, 10, 10, 10, 10],\n",
       "       [10, 10, 10, 10, 10, 10, 10, 10, 10, 10],\n",
       "       [10, 10, 10, 10, 10, 10, 10, 10, 10, 10],\n",
       "       [10, 10, 10, 10, 10, 10, 10, 10, 10, 10],\n",
       "       [10, 10, 10, 10, 10, 10, 10, 10, 10, 10],\n",
       "       [10, 10, 10, 10, 10, 10, 10, 10, 10, 10],\n",
       "       [10, 10, 10, 10, 10, 10, 10, 10, 10, 10],\n",
       "       [10, 10, 10, 10, 10, 10, 10, 10, 10, 10]])"
      ]
     },
     "execution_count": 110,
     "metadata": {},
     "output_type": "execute_result"
    }
   ],
   "source": [
    "ina = np.full((10, 10), 10)\n",
    "ina"
   ]
  },
  {
   "cell_type": "code",
   "execution_count": 111,
   "id": "96f2a7cd",
   "metadata": {},
   "outputs": [
    {
     "data": {
      "text/plain": [
       "array([ 1,  2,  3,  4,  5,  6,  7,  8,  9, 10, 11, 12, 13, 14, 15, 16, 17,\n",
       "       18, 19, 20, 21, 22, 23, 24, 25, 26, 27, 28, 29])"
      ]
     },
     "execution_count": 111,
     "metadata": {},
     "output_type": "execute_result"
    }
   ],
   "source": [
    "ina = np.arange(1, 30)\n",
    "ina"
   ]
  },
  {
   "cell_type": "code",
   "execution_count": 112,
   "id": "35a1327f",
   "metadata": {},
   "outputs": [
    {
     "data": {
      "text/plain": [
       "array([  1,   6,  11,  16,  21,  26,  31,  36,  41,  46,  51,  56,  61,\n",
       "        66,  71,  76,  81,  86,  91,  96, 101, 106, 111, 116, 121, 126,\n",
       "       131, 136, 141, 146, 151, 156, 161, 166, 171, 176, 181, 186, 191,\n",
       "       196, 201, 206, 211, 216, 221, 226, 231, 236, 241, 246, 251, 256,\n",
       "       261, 266, 271, 276, 281, 286, 291, 296])"
      ]
     },
     "execution_count": 112,
     "metadata": {},
     "output_type": "execute_result"
    }
   ],
   "source": [
    "ina = np.arange(1, 300, 5)\n",
    "ina"
   ]
  },
  {
   "cell_type": "code",
   "execution_count": 113,
   "id": "ee2a6da1",
   "metadata": {},
   "outputs": [
    {
     "data": {
      "text/plain": [
       "array([82, 81, 36, 40, 16])"
      ]
     },
     "execution_count": 113,
     "metadata": {},
     "output_type": "execute_result"
    }
   ],
   "source": [
    "irn = np.random.randint(1, 100, 5)\n",
    "irn"
   ]
  },
  {
   "cell_type": "code",
   "execution_count": 114,
   "id": "8042acdb",
   "metadata": {},
   "outputs": [
    {
     "data": {
      "text/plain": [
       "array([ 617,  868, 4499, 5147, 5033, 5302, 7696, 1731, 3403,  213])"
      ]
     },
     "execution_count": 114,
     "metadata": {},
     "output_type": "execute_result"
    }
   ],
   "source": [
    "irn = np.random.randint(100, 11000, 10)\n",
    "irn"
   ]
  },
  {
   "cell_type": "markdown",
   "id": "12518613",
   "metadata": {},
   "source": [
    "# check the shape of numpy array"
   ]
  },
  {
   "cell_type": "code",
   "execution_count": 115,
   "id": "e8c697f9",
   "metadata": {},
   "outputs": [
    {
     "data": {
      "text/plain": [
       "(2, 5)"
      ]
     },
     "execution_count": 115,
     "metadata": {},
     "output_type": "execute_result"
    }
   ],
   "source": [
    "csna = np.array([[1, 2, 3, 4, 5], [6, 7, 8, 9, 11]])\n",
    "csna.shape"
   ]
  },
  {
   "cell_type": "code",
   "execution_count": 116,
   "id": "f38645b6",
   "metadata": {},
   "outputs": [],
   "source": [
    "csna.shape = (5, 2)"
   ]
  },
  {
   "cell_type": "code",
   "execution_count": 117,
   "id": "4f4640cc",
   "metadata": {},
   "outputs": [
    {
     "data": {
      "text/plain": [
       "array([[ 1,  2],\n",
       "       [ 3,  4],\n",
       "       [ 5,  6],\n",
       "       [ 7,  8],\n",
       "       [ 9, 11]])"
      ]
     },
     "execution_count": 117,
     "metadata": {},
     "output_type": "execute_result"
    }
   ],
   "source": [
    "csna"
   ]
  },
  {
   "cell_type": "code",
   "execution_count": 118,
   "id": "a871a13a",
   "metadata": {},
   "outputs": [],
   "source": [
    "csna.shape = (10, 1)"
   ]
  },
  {
   "cell_type": "code",
   "execution_count": 119,
   "id": "ac0626c3",
   "metadata": {},
   "outputs": [
    {
     "data": {
      "text/plain": [
       "array([[ 1],\n",
       "       [ 2],\n",
       "       [ 3],\n",
       "       [ 4],\n",
       "       [ 5],\n",
       "       [ 6],\n",
       "       [ 7],\n",
       "       [ 8],\n",
       "       [ 9],\n",
       "       [11]])"
      ]
     },
     "execution_count": 119,
     "metadata": {},
     "output_type": "execute_result"
    }
   ],
   "source": [
    "csna"
   ]
  },
  {
   "cell_type": "markdown",
   "id": "3125e2dc",
   "metadata": {},
   "source": [
    "# joining numpy arrays"
   ]
  },
  {
   "cell_type": "markdown",
   "id": "d7b20d4d",
   "metadata": {},
   "source": [
    "### vstack"
   ]
  },
  {
   "cell_type": "code",
   "execution_count": 120,
   "id": "19a72394",
   "metadata": {},
   "outputs": [],
   "source": [
    "n1 = np.array([11, 22, 33, 44, 55])"
   ]
  },
  {
   "cell_type": "code",
   "execution_count": 121,
   "id": "71ab807e",
   "metadata": {},
   "outputs": [],
   "source": [
    "n2 = np.array([15, 25, 35, 45, 60])"
   ]
  },
  {
   "cell_type": "code",
   "execution_count": 122,
   "id": "d1f0b6f4",
   "metadata": {},
   "outputs": [
    {
     "data": {
      "text/plain": [
       "array([[11, 22, 33, 44, 55],\n",
       "       [15, 25, 35, 45, 60]])"
      ]
     },
     "execution_count": 122,
     "metadata": {},
     "output_type": "execute_result"
    }
   ],
   "source": [
    "np.vstack((n1, n2))"
   ]
  },
  {
   "cell_type": "markdown",
   "id": "7b75f63b",
   "metadata": {},
   "source": [
    "### hstack"
   ]
  },
  {
   "cell_type": "code",
   "execution_count": 123,
   "id": "e288edeb",
   "metadata": {},
   "outputs": [
    {
     "data": {
      "text/plain": [
       "array([11, 22, 33, 44, 55, 15, 25, 35, 45, 60])"
      ]
     },
     "execution_count": 123,
     "metadata": {},
     "output_type": "execute_result"
    }
   ],
   "source": [
    "np.hstack((n1, n2))"
   ]
  },
  {
   "cell_type": "markdown",
   "id": "2625a70c",
   "metadata": {},
   "source": [
    "### column_stack"
   ]
  },
  {
   "cell_type": "code",
   "execution_count": 124,
   "id": "d4a2408e",
   "metadata": {},
   "outputs": [
    {
     "data": {
      "text/plain": [
       "array([[11, 15],\n",
       "       [22, 25],\n",
       "       [33, 35],\n",
       "       [44, 45],\n",
       "       [55, 60]])"
      ]
     },
     "execution_count": 124,
     "metadata": {},
     "output_type": "execute_result"
    }
   ],
   "source": [
    "np.column_stack((n1, n2))"
   ]
  },
  {
   "cell_type": "markdown",
   "id": "adb27a74",
   "metadata": {},
   "source": [
    "# Intersection And Difference"
   ]
  },
  {
   "cell_type": "code",
   "execution_count": 125,
   "id": "124e3f4a",
   "metadata": {},
   "outputs": [],
   "source": [
    "n1 = np.array([10, 20, 30, 40, 50, 60])"
   ]
  },
  {
   "cell_type": "code",
   "execution_count": 126,
   "id": "84ebb0f5",
   "metadata": {},
   "outputs": [],
   "source": [
    "n2 = np.array([50, 60, 70, 80, 90])"
   ]
  },
  {
   "cell_type": "code",
   "execution_count": 127,
   "id": "88fefc3d",
   "metadata": {},
   "outputs": [
    {
     "data": {
      "text/plain": [
       "array([50, 60])"
      ]
     },
     "execution_count": 127,
     "metadata": {},
     "output_type": "execute_result"
    }
   ],
   "source": [
    "np.intersect1d(n1, n2)"
   ]
  },
  {
   "cell_type": "code",
   "execution_count": 128,
   "id": "76b13c86",
   "metadata": {},
   "outputs": [
    {
     "data": {
      "text/plain": [
       "array([10, 20, 30, 40])"
      ]
     },
     "execution_count": 128,
     "metadata": {},
     "output_type": "execute_result"
    }
   ],
   "source": [
    "np.setdiff1d(n1, n2)"
   ]
  },
  {
   "cell_type": "code",
   "execution_count": 129,
   "id": "fb3357b0",
   "metadata": {},
   "outputs": [
    {
     "data": {
      "text/plain": [
       "array([70, 80, 90])"
      ]
     },
     "execution_count": 129,
     "metadata": {},
     "output_type": "execute_result"
    }
   ],
   "source": [
    "np.setdiff1d(n2, n1)"
   ]
  },
  {
   "cell_type": "markdown",
   "id": "a666b30e",
   "metadata": {},
   "source": [
    "# Array Mathematics"
   ]
  },
  {
   "cell_type": "markdown",
   "id": "1c8639c2",
   "metadata": {},
   "source": [
    "### Addition Of Numpy Arrays"
   ]
  },
  {
   "cell_type": "code",
   "execution_count": 130,
   "id": "7fb746ee",
   "metadata": {},
   "outputs": [],
   "source": [
    "n1 = np.array([10, 20])"
   ]
  },
  {
   "cell_type": "code",
   "execution_count": 131,
   "id": "1f9b2f51",
   "metadata": {},
   "outputs": [],
   "source": [
    "n2 = np.array([30, 40])"
   ]
  },
  {
   "cell_type": "code",
   "execution_count": 132,
   "id": "c5ac4277",
   "metadata": {},
   "outputs": [
    {
     "data": {
      "text/plain": [
       "100"
      ]
     },
     "execution_count": 132,
     "metadata": {},
     "output_type": "execute_result"
    }
   ],
   "source": [
    "np.sum([n1, n2])"
   ]
  },
  {
   "cell_type": "code",
   "execution_count": 133,
   "id": "2dff5a0d",
   "metadata": {},
   "outputs": [
    {
     "data": {
      "text/plain": [
       "array([40, 60])"
      ]
     },
     "execution_count": 133,
     "metadata": {},
     "output_type": "execute_result"
    }
   ],
   "source": [
    "np.sum([n1, n2], axis = 0)"
   ]
  },
  {
   "cell_type": "code",
   "execution_count": 134,
   "id": "bd238e9f",
   "metadata": {},
   "outputs": [
    {
     "data": {
      "text/plain": [
       "array([30, 70])"
      ]
     },
     "execution_count": 134,
     "metadata": {},
     "output_type": "execute_result"
    }
   ],
   "source": [
    "np.sum([n1, n2], axis = 1)"
   ]
  },
  {
   "cell_type": "markdown",
   "id": "3e779bec",
   "metadata": {},
   "source": [
    "### Basic Addition"
   ]
  },
  {
   "cell_type": "code",
   "execution_count": 135,
   "id": "e55761ce",
   "metadata": {},
   "outputs": [],
   "source": [
    " n1 = np.array([10, 20, 30])"
   ]
  },
  {
   "cell_type": "code",
   "execution_count": 136,
   "id": "368a08a0",
   "metadata": {},
   "outputs": [
    {
     "data": {
      "text/plain": [
       "array([11, 21, 31])"
      ]
     },
     "execution_count": 136,
     "metadata": {},
     "output_type": "execute_result"
    }
   ],
   "source": [
    "n1 = n1 + 1\n",
    "n1"
   ]
  },
  {
   "cell_type": "markdown",
   "id": "76b266fe",
   "metadata": {},
   "source": [
    "### Basic Subtraction"
   ]
  },
  {
   "cell_type": "code",
   "execution_count": 137,
   "id": "74dc3c2a",
   "metadata": {},
   "outputs": [],
   "source": [
    " n1 = np.array([10, 20, 30])"
   ]
  },
  {
   "cell_type": "code",
   "execution_count": 138,
   "id": "52c24177",
   "metadata": {},
   "outputs": [
    {
     "data": {
      "text/plain": [
       "array([ 9, 19, 29])"
      ]
     },
     "execution_count": 138,
     "metadata": {},
     "output_type": "execute_result"
    }
   ],
   "source": [
    "n1 = n1 - 1\n",
    "n1"
   ]
  },
  {
   "cell_type": "markdown",
   "id": "add40fc6",
   "metadata": {},
   "source": [
    "### Basic Multiplication"
   ]
  },
  {
   "cell_type": "code",
   "execution_count": 139,
   "id": "8aa4d4d5",
   "metadata": {},
   "outputs": [],
   "source": [
    " n1 = np.array([10, 20, 30])"
   ]
  },
  {
   "cell_type": "code",
   "execution_count": 143,
   "id": "126cd0cd",
   "metadata": {},
   "outputs": [
    {
     "data": {
      "text/plain": [
       "array([ 40,  80, 120])"
      ]
     },
     "execution_count": 143,
     "metadata": {},
     "output_type": "execute_result"
    }
   ],
   "source": [
    "n1 = n1 * 2\n",
    "n1"
   ]
  },
  {
   "cell_type": "markdown",
   "id": "3fcdccff",
   "metadata": {},
   "source": [
    "### Basic Division"
   ]
  },
  {
   "cell_type": "code",
   "execution_count": 144,
   "id": "14dfb520",
   "metadata": {},
   "outputs": [],
   "source": [
    " n1 = np.array([10, 20, 30])"
   ]
  },
  {
   "cell_type": "code",
   "execution_count": 145,
   "id": "4592801d",
   "metadata": {},
   "outputs": [
    {
     "data": {
      "text/plain": [
       "array([ 5., 10., 15.])"
      ]
     },
     "execution_count": 145,
     "metadata": {},
     "output_type": "execute_result"
    }
   ],
   "source": [
    "n1 = n1 / 2\n",
    "n1"
   ]
  },
  {
   "cell_type": "markdown",
   "id": "4436d936",
   "metadata": {},
   "source": [
    "# Math Functions"
   ]
  },
  {
   "cell_type": "markdown",
   "id": "0b0cee4d",
   "metadata": {},
   "source": [
    "### Mean"
   ]
  },
  {
   "cell_type": "code",
   "execution_count": 146,
   "id": "6441c3c7",
   "metadata": {},
   "outputs": [],
   "source": [
    "n1 = np.array([10, 20, 30, 40, 50, 60])"
   ]
  },
  {
   "cell_type": "code",
   "execution_count": 147,
   "id": "c1500c50",
   "metadata": {},
   "outputs": [
    {
     "data": {
      "text/plain": [
       "35.0"
      ]
     },
     "execution_count": 147,
     "metadata": {},
     "output_type": "execute_result"
    }
   ],
   "source": [
    "np.mean(n1)"
   ]
  },
  {
   "cell_type": "markdown",
   "id": "b52e5895",
   "metadata": {},
   "source": [
    "### Median"
   ]
  },
  {
   "cell_type": "code",
   "execution_count": 151,
   "id": "c652f999",
   "metadata": {},
   "outputs": [],
   "source": [
    "n2 = np.array([11, 22, 33, 44, 55, 66])"
   ]
  },
  {
   "cell_type": "code",
   "execution_count": 152,
   "id": "1a0eb9b3",
   "metadata": {},
   "outputs": [
    {
     "data": {
      "text/plain": [
       "38.5"
      ]
     },
     "execution_count": 152,
     "metadata": {},
     "output_type": "execute_result"
    }
   ],
   "source": [
    "np.median(n2)"
   ]
  },
  {
   "cell_type": "markdown",
   "id": "ba7d6aaa",
   "metadata": {},
   "source": [
    "### Standard Divitions"
   ]
  },
  {
   "cell_type": "code",
   "execution_count": 153,
   "id": "10dd010b",
   "metadata": {},
   "outputs": [],
   "source": [
    "n3 = np.array([91, 81, 71, 61, 51, 41])"
   ]
  },
  {
   "cell_type": "code",
   "execution_count": 154,
   "id": "9ec49682",
   "metadata": {},
   "outputs": [
    {
     "data": {
      "text/plain": [
       "17.07825127659933"
      ]
     },
     "execution_count": 154,
     "metadata": {},
     "output_type": "execute_result"
    }
   ],
   "source": [
    "np.std(n3)"
   ]
  },
  {
   "cell_type": "code",
   "execution_count": null,
   "id": "635cd9e7",
   "metadata": {},
   "outputs": [],
   "source": []
  }
 ],
 "metadata": {
  "kernelspec": {
   "display_name": "Python 3 (ipykernel)",
   "language": "python",
   "name": "python3"
  },
  "language_info": {
   "codemirror_mode": {
    "name": "ipython",
    "version": 3
   },
   "file_extension": ".py",
   "mimetype": "text/x-python",
   "name": "python",
   "nbconvert_exporter": "python",
   "pygments_lexer": "ipython3",
   "version": "3.8.8"
  }
 },
 "nbformat": 4,
 "nbformat_minor": 5
}
