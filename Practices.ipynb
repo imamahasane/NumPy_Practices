{
 "cells": [
  {
   "cell_type": "code",
   "execution_count": 21,
   "id": "aba9d7f6",
   "metadata": {},
   "outputs": [],
   "source": [
    "import numpy as np"
   ]
  },
  {
   "cell_type": "markdown",
   "id": "8b4e4f7c",
   "metadata": {},
   "source": [
    "# single dimensional array"
   ]
  },
  {
   "cell_type": "code",
   "execution_count": 22,
   "id": "9e05c7c2",
   "metadata": {},
   "outputs": [
    {
     "data": {
      "text/plain": [
       "array([12, 21, 31, 41, 51])"
      ]
     },
     "execution_count": 22,
     "metadata": {},
     "output_type": "execute_result"
    }
   ],
   "source": [
    "sda = np.array([12, 21, 31, 41, 51])\n",
    "sda"
   ]
  },
  {
   "cell_type": "code",
   "execution_count": 23,
   "id": "8ae85949",
   "metadata": {},
   "outputs": [
    {
     "data": {
      "text/plain": [
       "numpy.ndarray"
      ]
     },
     "execution_count": 23,
     "metadata": {},
     "output_type": "execute_result"
    }
   ],
   "source": [
    "type(sda)"
   ]
  },
  {
   "cell_type": "markdown",
   "id": "85e699b1",
   "metadata": {},
   "source": [
    "# multi dimensional array"
   ]
  },
  {
   "cell_type": "code",
   "execution_count": 24,
   "id": "a69c1ac0",
   "metadata": {},
   "outputs": [
    {
     "data": {
      "text/plain": [
       "array([[12, 21, 31, 41, 51],\n",
       "       [ 1,  5,  8,  9,  3]])"
      ]
     },
     "execution_count": 24,
     "metadata": {},
     "output_type": "execute_result"
    }
   ],
   "source": [
    "mda = np.array([[12, 21, 31, 41, 51], [1, 5, 8, 9, 3]])\n",
    "mda"
   ]
  },
  {
   "cell_type": "code",
   "execution_count": 25,
   "id": "6e1a4b89",
   "metadata": {},
   "outputs": [
    {
     "data": {
      "text/plain": [
       "numpy.ndarray"
      ]
     },
     "execution_count": 25,
     "metadata": {},
     "output_type": "execute_result"
    }
   ],
   "source": [
    "type(mda)"
   ]
  },
  {
   "cell_type": "markdown",
   "id": "ad5b9d37",
   "metadata": {},
   "source": [
    "# initialize numpy array"
   ]
  },
  {
   "cell_type": "code",
   "execution_count": 26,
   "id": "ec2b1691",
   "metadata": {},
   "outputs": [
    {
     "data": {
      "text/plain": [
       "array([[0., 0.]])"
      ]
     },
     "execution_count": 26,
     "metadata": {},
     "output_type": "execute_result"
    }
   ],
   "source": [
    "ina = np.zeros((1, 2))\n",
    "ina"
   ]
  },
  {
   "cell_type": "code",
   "execution_count": 27,
   "id": "fbfd18da",
   "metadata": {},
   "outputs": [
    {
     "data": {
      "text/plain": [
       "array([[0., 0., 0., 0., 0., 0., 0.],\n",
       "       [0., 0., 0., 0., 0., 0., 0.],\n",
       "       [0., 0., 0., 0., 0., 0., 0.],\n",
       "       [0., 0., 0., 0., 0., 0., 0.],\n",
       "       [0., 0., 0., 0., 0., 0., 0.],\n",
       "       [0., 0., 0., 0., 0., 0., 0.],\n",
       "       [0., 0., 0., 0., 0., 0., 0.]])"
      ]
     },
     "execution_count": 27,
     "metadata": {},
     "output_type": "execute_result"
    }
   ],
   "source": [
    "ina = np.zeros((7, 7))\n",
    "ina"
   ]
  },
  {
   "cell_type": "code",
   "execution_count": 28,
   "id": "30219b13",
   "metadata": {},
   "outputs": [
    {
     "data": {
      "text/plain": [
       "array([[10, 10, 10, 10, 10, 10, 10, 10, 10, 10],\n",
       "       [10, 10, 10, 10, 10, 10, 10, 10, 10, 10],\n",
       "       [10, 10, 10, 10, 10, 10, 10, 10, 10, 10],\n",
       "       [10, 10, 10, 10, 10, 10, 10, 10, 10, 10],\n",
       "       [10, 10, 10, 10, 10, 10, 10, 10, 10, 10],\n",
       "       [10, 10, 10, 10, 10, 10, 10, 10, 10, 10],\n",
       "       [10, 10, 10, 10, 10, 10, 10, 10, 10, 10],\n",
       "       [10, 10, 10, 10, 10, 10, 10, 10, 10, 10],\n",
       "       [10, 10, 10, 10, 10, 10, 10, 10, 10, 10],\n",
       "       [10, 10, 10, 10, 10, 10, 10, 10, 10, 10]])"
      ]
     },
     "execution_count": 28,
     "metadata": {},
     "output_type": "execute_result"
    }
   ],
   "source": [
    "ina = np.full((10, 10), 10)\n",
    "ina"
   ]
  },
  {
   "cell_type": "code",
   "execution_count": 29,
   "id": "96f2a7cd",
   "metadata": {},
   "outputs": [
    {
     "data": {
      "text/plain": [
       "array([ 1,  2,  3,  4,  5,  6,  7,  8,  9, 10, 11, 12, 13, 14, 15, 16, 17,\n",
       "       18, 19, 20, 21, 22, 23, 24, 25, 26, 27, 28, 29])"
      ]
     },
     "execution_count": 29,
     "metadata": {},
     "output_type": "execute_result"
    }
   ],
   "source": [
    "ina = np.arange(1, 30)\n",
    "ina"
   ]
  },
  {
   "cell_type": "code",
   "execution_count": 30,
   "id": "35a1327f",
   "metadata": {},
   "outputs": [
    {
     "data": {
      "text/plain": [
       "array([  1,   6,  11,  16,  21,  26,  31,  36,  41,  46,  51,  56,  61,\n",
       "        66,  71,  76,  81,  86,  91,  96, 101, 106, 111, 116, 121, 126,\n",
       "       131, 136, 141, 146, 151, 156, 161, 166, 171, 176, 181, 186, 191,\n",
       "       196, 201, 206, 211, 216, 221, 226, 231, 236, 241, 246, 251, 256,\n",
       "       261, 266, 271, 276, 281, 286, 291, 296])"
      ]
     },
     "execution_count": 30,
     "metadata": {},
     "output_type": "execute_result"
    }
   ],
   "source": [
    "ina = np.arange(1, 300, 5)\n",
    "ina"
   ]
  },
  {
   "cell_type": "code",
   "execution_count": 31,
   "id": "ee2a6da1",
   "metadata": {},
   "outputs": [
    {
     "data": {
      "text/plain": [
       "array([90, 28, 94, 82, 64])"
      ]
     },
     "execution_count": 31,
     "metadata": {},
     "output_type": "execute_result"
    }
   ],
   "source": [
    "irn = np.random.randint(1, 100, 5)\n",
    "irn"
   ]
  },
  {
   "cell_type": "code",
   "execution_count": 32,
   "id": "8042acdb",
   "metadata": {},
   "outputs": [
    {
     "data": {
      "text/plain": [
       "array([5853, 3089, 4198, 5385, 5322, 1939, 8534, 8130, 3634, 2334])"
      ]
     },
     "execution_count": 32,
     "metadata": {},
     "output_type": "execute_result"
    }
   ],
   "source": [
    "irn = np.random.randint(100, 11000, 10)\n",
    "irn"
   ]
  },
  {
   "cell_type": "markdown",
   "id": "12518613",
   "metadata": {},
   "source": [
    "# check the shape of numpy array"
   ]
  },
  {
   "cell_type": "code",
   "execution_count": 33,
   "id": "e8c697f9",
   "metadata": {},
   "outputs": [
    {
     "data": {
      "text/plain": [
       "(2, 5)"
      ]
     },
     "execution_count": 33,
     "metadata": {},
     "output_type": "execute_result"
    }
   ],
   "source": [
    "csna = np.array([[1, 2, 3, 4, 5], [6, 7, 8, 9, 11]])\n",
    "csna.shape"
   ]
  },
  {
   "cell_type": "code",
   "execution_count": 34,
   "id": "f38645b6",
   "metadata": {},
   "outputs": [],
   "source": [
    "csna.shape = (5, 2)"
   ]
  },
  {
   "cell_type": "code",
   "execution_count": 35,
   "id": "4f4640cc",
   "metadata": {},
   "outputs": [
    {
     "data": {
      "text/plain": [
       "array([[ 1,  2],\n",
       "       [ 3,  4],\n",
       "       [ 5,  6],\n",
       "       [ 7,  8],\n",
       "       [ 9, 11]])"
      ]
     },
     "execution_count": 35,
     "metadata": {},
     "output_type": "execute_result"
    }
   ],
   "source": [
    "csna"
   ]
  },
  {
   "cell_type": "code",
   "execution_count": 36,
   "id": "a871a13a",
   "metadata": {},
   "outputs": [],
   "source": [
    "csna.shape = (10, 1)"
   ]
  },
  {
   "cell_type": "code",
   "execution_count": 37,
   "id": "ac0626c3",
   "metadata": {},
   "outputs": [
    {
     "data": {
      "text/plain": [
       "array([[ 1],\n",
       "       [ 2],\n",
       "       [ 3],\n",
       "       [ 4],\n",
       "       [ 5],\n",
       "       [ 6],\n",
       "       [ 7],\n",
       "       [ 8],\n",
       "       [ 9],\n",
       "       [11]])"
      ]
     },
     "execution_count": 37,
     "metadata": {},
     "output_type": "execute_result"
    }
   ],
   "source": [
    "csna"
   ]
  },
  {
   "cell_type": "markdown",
   "id": "3125e2dc",
   "metadata": {},
   "source": [
    "# joining numpy arrays"
   ]
  },
  {
   "cell_type": "markdown",
   "id": "d7b20d4d",
   "metadata": {},
   "source": [
    "### vstack"
   ]
  },
  {
   "cell_type": "code",
   "execution_count": 38,
   "id": "19a72394",
   "metadata": {},
   "outputs": [],
   "source": [
    "n1 = np.array([11, 22, 33, 44, 55])"
   ]
  },
  {
   "cell_type": "code",
   "execution_count": 39,
   "id": "7612d45d",
   "metadata": {},
   "outputs": [],
   "source": [
    "n2 = np.array([15, 25, 35, 45, 60])"
   ]
  },
  {
   "cell_type": "code",
   "execution_count": 40,
   "id": "f649df0e",
   "metadata": {},
   "outputs": [
    {
     "data": {
      "text/plain": [
       "array([[11, 22, 33, 44, 55],\n",
       "       [15, 25, 35, 45, 60]])"
      ]
     },
     "execution_count": 40,
     "metadata": {},
     "output_type": "execute_result"
    }
   ],
   "source": [
    "np.vstack((n1, n2))"
   ]
  },
  {
   "cell_type": "markdown",
   "id": "11d09429",
   "metadata": {},
   "source": [
    "### hstack"
   ]
  },
  {
   "cell_type": "code",
   "execution_count": 42,
   "id": "1a57e8db",
   "metadata": {},
   "outputs": [
    {
     "data": {
      "text/plain": [
       "array([11, 22, 33, 44, 55, 15, 25, 35, 45, 60])"
      ]
     },
     "execution_count": 42,
     "metadata": {},
     "output_type": "execute_result"
    }
   ],
   "source": [
    "np.hstack((n1, n2))"
   ]
  },
  {
   "cell_type": "markdown",
   "id": "0efe5f4b",
   "metadata": {},
   "source": [
    "### column_stack"
   ]
  },
  {
   "cell_type": "code",
   "execution_count": 43,
   "id": "be37f1c4",
   "metadata": {},
   "outputs": [
    {
     "data": {
      "text/plain": [
       "array([[11, 15],\n",
       "       [22, 25],\n",
       "       [33, 35],\n",
       "       [44, 45],\n",
       "       [55, 60]])"
      ]
     },
     "execution_count": 43,
     "metadata": {},
     "output_type": "execute_result"
    }
   ],
   "source": [
    "np.column_stack((n1, n2))"
   ]
  },
  {
   "cell_type": "markdown",
   "id": "6bbb06a7",
   "metadata": {},
   "source": [
    "# Intersection And Difference"
   ]
  },
  {
   "cell_type": "code",
   "execution_count": 44,
   "id": "a05d3939",
   "metadata": {},
   "outputs": [],
   "source": [
    "n1 = np.array([10, 20, 30, 40, 50, 60])"
   ]
  },
  {
   "cell_type": "code",
   "execution_count": 45,
   "id": "b5f51dc4",
   "metadata": {},
   "outputs": [],
   "source": [
    "n2 = np.array([50, 60, 70, 80, 90])"
   ]
  },
  {
   "cell_type": "code",
   "execution_count": 46,
   "id": "d1c317e4",
   "metadata": {},
   "outputs": [
    {
     "data": {
      "text/plain": [
       "array([50, 60])"
      ]
     },
     "execution_count": 46,
     "metadata": {},
     "output_type": "execute_result"
    }
   ],
   "source": [
    "np.intersect1d(n1, n2)"
   ]
  },
  {
   "cell_type": "code",
   "execution_count": 47,
   "id": "ef3ffbef",
   "metadata": {},
   "outputs": [
    {
     "data": {
      "text/plain": [
       "array([10, 20, 30, 40])"
      ]
     },
     "execution_count": 47,
     "metadata": {},
     "output_type": "execute_result"
    }
   ],
   "source": [
    "np.setdiff1d(n1, n2)"
   ]
  },
  {
   "cell_type": "code",
   "execution_count": 48,
   "id": "b9547561",
   "metadata": {},
   "outputs": [
    {
     "data": {
      "text/plain": [
       "array([70, 80, 90])"
      ]
     },
     "execution_count": 48,
     "metadata": {},
     "output_type": "execute_result"
    }
   ],
   "source": [
    "np.setdiff1d(n2, n1)"
   ]
  },
  {
   "cell_type": "markdown",
   "id": "7f3a86ae",
   "metadata": {},
   "source": [
    "# Array Mathematics"
   ]
  },
  {
   "cell_type": "markdown",
   "id": "06e9f445",
   "metadata": {},
   "source": [
    "### Addition Of Numpy Arrays"
   ]
  },
  {
   "cell_type": "code",
   "execution_count": null,
   "id": "f465202b",
   "metadata": {},
   "outputs": [],
   "source": []
  }
 ],
 "metadata": {
  "kernelspec": {
   "display_name": "Python 3 (ipykernel)",
   "language": "python",
   "name": "python3"
  },
  "language_info": {
   "codemirror_mode": {
    "name": "ipython",
    "version": 3
   },
   "file_extension": ".py",
   "mimetype": "text/x-python",
   "name": "python",
   "nbconvert_exporter": "python",
   "pygments_lexer": "ipython3",
   "version": "3.8.8"
  }
 },
 "nbformat": 4,
 "nbformat_minor": 5
}
