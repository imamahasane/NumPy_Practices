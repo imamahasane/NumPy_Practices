{
 "cells": [
  {
   "cell_type": "code",
   "execution_count": 2,
   "id": "aba9d7f6",
   "metadata": {},
   "outputs": [],
   "source": [
    "import numpy as np"
   ]
  },
  {
   "cell_type": "markdown",
   "id": "3ab4e4ee",
   "metadata": {},
   "source": [
    "## single dimensional array"
   ]
  },
  {
   "cell_type": "code",
   "execution_count": 7,
   "id": "e3dc4637",
   "metadata": {},
   "outputs": [
    {
     "data": {
      "text/plain": [
       "array([12, 21, 31, 41, 51])"
      ]
     },
     "execution_count": 7,
     "metadata": {},
     "output_type": "execute_result"
    }
   ],
   "source": [
    "sda = np.array([12, 21, 31, 41, 51])\n",
    "sda"
   ]
  },
  {
   "cell_type": "code",
   "execution_count": 8,
   "id": "4e47a2c8",
   "metadata": {},
   "outputs": [
    {
     "data": {
      "text/plain": [
       "numpy.ndarray"
      ]
     },
     "execution_count": 8,
     "metadata": {},
     "output_type": "execute_result"
    }
   ],
   "source": [
    "type(sda)"
   ]
  },
  {
   "cell_type": "markdown",
   "id": "6c9d1aa6",
   "metadata": {},
   "source": [
    "## multi dimensional array"
   ]
  },
  {
   "cell_type": "code",
   "execution_count": 6,
   "id": "de6cde69",
   "metadata": {},
   "outputs": [
    {
     "data": {
      "text/plain": [
       "array([[12, 21, 31, 41, 51],\n",
       "       [ 1,  5,  8,  9,  3]])"
      ]
     },
     "execution_count": 6,
     "metadata": {},
     "output_type": "execute_result"
    }
   ],
   "source": [
    "mda = np.array([[12, 21, 31, 41, 51], [1, 5, 8, 9, 3]])\n",
    "mda"
   ]
  },
  {
   "cell_type": "code",
   "execution_count": 9,
   "id": "57fc5a1e",
   "metadata": {},
   "outputs": [
    {
     "data": {
      "text/plain": [
       "numpy.ndarray"
      ]
     },
     "execution_count": 9,
     "metadata": {},
     "output_type": "execute_result"
    }
   ],
   "source": [
    "type(mda)"
   ]
  },
  {
   "cell_type": "code",
   "execution_count": null,
   "id": "6f245497",
   "metadata": {},
   "outputs": [],
   "source": []
  }
 ],
 "metadata": {
  "kernelspec": {
   "display_name": "Python 3 (ipykernel)",
   "language": "python",
   "name": "python3"
  },
  "language_info": {
   "codemirror_mode": {
    "name": "ipython",
    "version": 3
   },
   "file_extension": ".py",
   "mimetype": "text/x-python",
   "name": "python",
   "nbconvert_exporter": "python",
   "pygments_lexer": "ipython3",
   "version": "3.8.8"
  }
 },
 "nbformat": 4,
 "nbformat_minor": 5
}
