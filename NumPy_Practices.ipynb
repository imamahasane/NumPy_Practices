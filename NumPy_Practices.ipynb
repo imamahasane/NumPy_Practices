{
 "cells": [
  {
   "attachments": {
    "download%20%282%29.png": {
     "image/png": "[encoded data removed]"
    }
   },
   "cell_type": "markdown",
   "id": "224edadd",
   "metadata": {},
   "source": [
    "![download%20%282%29.png](attachment:download%20%282%29.png)"
   ]
  },
  {
   "cell_type": "markdown",
   "id": "51fa503e",
   "metadata": {},
   "source": [
    "NumPy is a library for the Python programming language, adding support for large, multi-dimensional arrays and matrices, along with a large collection of high-level mathematical functions to operate on these arrays."
   ]
  },
  {
   "cell_type": "code",
   "execution_count": 252,
   "id": "aba9d7f6",
   "metadata": {},
   "outputs": [],
   "source": [
    "import numpy as np"
   ]
  },
  {
   "cell_type": "markdown",
   "id": "8b4e4f7c",
   "metadata": {},
   "source": [
    "# single dimensional numpy array"
   ]
  },
  {
   "cell_type": "code",
   "execution_count": 253,
   "id": "9e05c7c2",
   "metadata": {},
   "outputs": [
    {
     "data": {
      "text/plain": [
       "array([12, 21, 31, 41, 51])"
      ]
     },
     "execution_count": 253,
     "metadata": {},
     "output_type": "execute_result"
    }
   ],
   "source": [
    "sda = np.array([12, 21, 31, 41, 51])\n",
    "sda"
   ]
  },
  {
   "cell_type": "code",
   "execution_count": 254,
   "id": "8ae85949",
   "metadata": {},
   "outputs": [
    {
     "data": {
      "text/plain": [
       "numpy.ndarray"
      ]
     },
     "execution_count": 254,
     "metadata": {},
     "output_type": "execute_result"
    }
   ],
   "source": [
    "type(sda)"
   ]
  },
  {
   "cell_type": "markdown",
   "id": "85e699b1",
   "metadata": {},
   "source": [
    "# multi dimensional numpy array"
   ]
  },
  {
   "cell_type": "code",
   "execution_count": 255,
   "id": "a69c1ac0",
   "metadata": {},
   "outputs": [
    {
     "data": {
      "text/plain": [
       "array([[12, 21, 31, 41, 51],\n",
       "       [ 1,  5,  8,  9,  3]])"
      ]
     },
     "execution_count": 255,
     "metadata": {},
     "output_type": "execute_result"
    }
   ],
   "source": [
    "mda = np.array([[12, 21, 31, 41, 51], [1, 5, 8, 9, 3]])\n",
    "mda"
   ]
  },
  {
   "cell_type": "code",
   "execution_count": 256,
   "id": "6e1a4b89",
   "metadata": {},
   "outputs": [
    {
     "data": {
      "text/plain": [
       "numpy.ndarray"
      ]
     },
     "execution_count": 256,
     "metadata": {},
     "output_type": "execute_result"
    }
   ],
   "source": [
    "type(mda)"
   ]
  },
  {
   "cell_type": "markdown",
   "id": "ad5b9d37",
   "metadata": {},
   "source": [
    "# initialize numpy array"
   ]
  },
  {
   "cell_type": "code",
   "execution_count": 257,
   "id": "ec2b1691",
   "metadata": {},
   "outputs": [
    {
     "data": {
      "text/plain": [
       "array([[0., 0.]])"
      ]
     },
     "execution_count": 257,
     "metadata": {},
     "output_type": "execute_result"
    }
   ],
   "source": [
    "ina = np.zeros((1, 2))\n",
    "ina"
   ]
  },
  {
   "cell_type": "code",
   "execution_count": 258,
   "id": "fbfd18da",
   "metadata": {},
   "outputs": [
    {
     "data": {
      "text/plain": [
       "array([[0., 0., 0., 0., 0., 0., 0.],\n",
       "       [0., 0., 0., 0., 0., 0., 0.],\n",
       "       [0., 0., 0., 0., 0., 0., 0.],\n",
       "       [0., 0., 0., 0., 0., 0., 0.],\n",
       "       [0., 0., 0., 0., 0., 0., 0.],\n",
       "       [0., 0., 0., 0., 0., 0., 0.],\n",
       "       [0., 0., 0., 0., 0., 0., 0.]])"
      ]
     },
     "execution_count": 258,
     "metadata": {},
     "output_type": "execute_result"
    }
   ],
   "source": [
    "ina = np.zeros((7, 7))\n",
    "ina"
   ]
  },
  {
   "cell_type": "code",
   "execution_count": 259,
   "id": "30219b13",
   "metadata": {},
   "outputs": [
    {
     "data": {
      "text/plain": [
       "array([[10, 10, 10, 10, 10, 10, 10, 10, 10, 10],\n",
       "       [10, 10, 10, 10, 10, 10, 10, 10, 10, 10],\n",
       "       [10, 10, 10, 10, 10, 10, 10, 10, 10, 10],\n",
       "       [10, 10, 10, 10, 10, 10, 10, 10, 10, 10],\n",
       "       [10, 10, 10, 10, 10, 10, 10, 10, 10, 10],\n",
       "       [10, 10, 10, 10, 10, 10, 10, 10, 10, 10],\n",
       "       [10, 10, 10, 10, 10, 10, 10, 10, 10, 10],\n",
       "       [10, 10, 10, 10, 10, 10, 10, 10, 10, 10],\n",
       "       [10, 10, 10, 10, 10, 10, 10, 10, 10, 10],\n",
       "       [10, 10, 10, 10, 10, 10, 10, 10, 10, 10]])"
      ]
     },
     "execution_count": 259,
     "metadata": {},
     "output_type": "execute_result"
    }
   ],
   "source": [
    "ina = np.full((10, 10), 10)\n",
    "ina"
   ]
  },
  {
   "cell_type": "code",
   "execution_count": 260,
   "id": "96f2a7cd",
   "metadata": {},
   "outputs": [
    {
     "data": {
      "text/plain": [
       "array([ 1,  2,  3,  4,  5,  6,  7,  8,  9, 10, 11, 12, 13, 14, 15, 16, 17,\n",
       "       18, 19, 20, 21, 22, 23, 24, 25, 26, 27, 28, 29])"
      ]
     },
     "execution_count": 260,
     "metadata": {},
     "output_type": "execute_result"
    }
   ],
   "source": [
    "ina = np.arange(1, 30)\n",
    "ina"
   ]
  },
  {
   "cell_type": "code",
   "execution_count": 261,
   "id": "35a1327f",
   "metadata": {},
   "outputs": [
    {
     "data": {
      "text/plain": [
       "array([  1,   6,  11,  16,  21,  26,  31,  36,  41,  46,  51,  56,  61,\n",
       "        66,  71,  76,  81,  86,  91,  96, 101, 106, 111, 116, 121, 126,\n",
       "       131, 136, 141, 146, 151, 156, 161, 166, 171, 176, 181, 186, 191,\n",
       "       196, 201, 206, 211, 216, 221, 226, 231, 236, 241, 246, 251, 256,\n",
       "       261, 266, 271, 276, 281, 286, 291, 296])"
      ]
     },
     "execution_count": 261,
     "metadata": {},
     "output_type": "execute_result"
    }
   ],
   "source": [
    "ina = np.arange(1, 300, 5)\n",
    "ina"
   ]
  },
  {
   "cell_type": "code",
   "execution_count": 262,
   "id": "ee2a6da1",
   "metadata": {},
   "outputs": [
    {
     "data": {
      "text/plain": [
       "array([59, 61, 62, 33, 46])"
      ]
     },
     "execution_count": 262,
     "metadata": {},
     "output_type": "execute_result"
    }
   ],
   "source": [
    "irn = np.random.randint(1, 100, 5)\n",
    "irn"
   ]
  },
  {
   "cell_type": "code",
   "execution_count": 263,
   "id": "8042acdb",
   "metadata": {},
   "outputs": [
    {
     "data": {
      "text/plain": [
       "array([9630, 9719, 1189, 1870, 5407, 7134, 9823, 7016, 3378, 4324])"
      ]
     },
     "execution_count": 263,
     "metadata": {},
     "output_type": "execute_result"
    }
   ],
   "source": [
    "irn = np.random.randint(100, 11000, 10)\n",
    "irn"
   ]
  },
  {
   "cell_type": "markdown",
   "id": "12518613",
   "metadata": {},
   "source": [
    "# check the shape of numpy array"
   ]
  },
  {
   "cell_type": "code",
   "execution_count": 264,
   "id": "e8c697f9",
   "metadata": {},
   "outputs": [
    {
     "data": {
      "text/plain": [
       "(2, 5)"
      ]
     },
     "execution_count": 264,
     "metadata": {},
     "output_type": "execute_result"
    }
   ],
   "source": [
    "csna = np.array([[1, 2, 3, 4, 5], [6, 7, 8, 9, 11]])\n",
    "csna.shape"
   ]
  },
  {
   "cell_type": "code",
   "execution_count": 265,
   "id": "f38645b6",
   "metadata": {},
   "outputs": [],
   "source": [
    "csna.shape = (5, 2)"
   ]
  },
  {
   "cell_type": "code",
   "execution_count": 266,
   "id": "4f4640cc",
   "metadata": {},
   "outputs": [
    {
     "data": {
      "text/plain": [
       "array([[ 1,  2],\n",
       "       [ 3,  4],\n",
       "       [ 5,  6],\n",
       "       [ 7,  8],\n",
       "       [ 9, 11]])"
      ]
     },
     "execution_count": 266,
     "metadata": {},
     "output_type": "execute_result"
    }
   ],
   "source": [
    "csna"
   ]
  },
  {
   "cell_type": "code",
   "execution_count": 267,
   "id": "a871a13a",
   "metadata": {},
   "outputs": [],
   "source": [
    "csna.shape = (10, 1)"
   ]
  },
  {
   "cell_type": "code",
   "execution_count": 268,
   "id": "ac0626c3",
   "metadata": {},
   "outputs": [
    {
     "data": {
      "text/plain": [
       "array([[ 1],\n",
       "       [ 2],\n",
       "       [ 3],\n",
       "       [ 4],\n",
       "       [ 5],\n",
       "       [ 6],\n",
       "       [ 7],\n",
       "       [ 8],\n",
       "       [ 9],\n",
       "       [11]])"
      ]
     },
     "execution_count": 268,
     "metadata": {},
     "output_type": "execute_result"
    }
   ],
   "source": [
    "csna"
   ]
  },
  {
   "cell_type": "markdown",
   "id": "3125e2dc",
   "metadata": {},
   "source": [
    "# joining numpy arrays"
   ]
  },
  {
   "cell_type": "markdown",
   "id": "d7b20d4d",
   "metadata": {},
   "source": [
    "### vstack"
   ]
  },
  {
   "cell_type": "code",
   "execution_count": 269,
   "id": "19a72394",
   "metadata": {},
   "outputs": [],
   "source": [
    "n1 = np.array([11, 22, 33, 44, 55])"
   ]
  },
  {
   "cell_type": "code",
   "execution_count": 270,
   "id": "dec5b699",
   "metadata": {},
   "outputs": [],
   "source": [
    "n2 = np.array([15, 25, 35, 45, 60])"
   ]
  },
  {
   "cell_type": "code",
   "execution_count": 271,
   "id": "d0c1b3d7",
   "metadata": {},
   "outputs": [
    {
     "data": {
      "text/plain": [
       "array([[11, 22, 33, 44, 55],\n",
       "       [15, 25, 35, 45, 60]])"
      ]
     },
     "execution_count": 271,
     "metadata": {},
     "output_type": "execute_result"
    }
   ],
   "source": [
    "np.vstack((n1, n2))"
   ]
  },
  {
   "cell_type": "markdown",
   "id": "9d58f8ce",
   "metadata": {},
   "source": [
    "### hstack"
   ]
  },
  {
   "cell_type": "code",
   "execution_count": 272,
   "id": "d15a2474",
   "metadata": {},
   "outputs": [
    {
     "data": {
      "text/plain": [
       "array([11, 22, 33, 44, 55, 15, 25, 35, 45, 60])"
      ]
     },
     "execution_count": 272,
     "metadata": {},
     "output_type": "execute_result"
    }
   ],
   "source": [
    "np.hstack((n1, n2))"
   ]
  },
  {
   "cell_type": "markdown",
   "id": "5a364604",
   "metadata": {},
   "source": [
    "### column_stack"
   ]
  },
  {
   "cell_type": "code",
   "execution_count": 273,
   "id": "19df1054",
   "metadata": {},
   "outputs": [
    {
     "data": {
      "text/plain": [
       "array([[11, 15],\n",
       "       [22, 25],\n",
       "       [33, 35],\n",
       "       [44, 45],\n",
       "       [55, 60]])"
      ]
     },
     "execution_count": 273,
     "metadata": {},
     "output_type": "execute_result"
    }
   ],
   "source": [
    "np.column_stack((n1, n2))"
   ]
  },
  {
   "cell_type": "markdown",
   "id": "4853c70a",
   "metadata": {},
   "source": [
    "# numpy Intersection And Difference"
   ]
  },
  {
   "cell_type": "code",
   "execution_count": 274,
   "id": "ebc7f24b",
   "metadata": {},
   "outputs": [],
   "source": [
    "n1 = np.array([10, 20, 30, 40, 50, 60])"
   ]
  },
  {
   "cell_type": "code",
   "execution_count": 275,
   "id": "02094bc8",
   "metadata": {},
   "outputs": [],
   "source": [
    "n2 = np.array([50, 60, 70, 80, 90])"
   ]
  },
  {
   "cell_type": "code",
   "execution_count": 276,
   "id": "8e4c5813",
   "metadata": {},
   "outputs": [
    {
     "data": {
      "text/plain": [
       "array([50, 60])"
      ]
     },
     "execution_count": 276,
     "metadata": {},
     "output_type": "execute_result"
    }
   ],
   "source": [
    "np.intersect1d(n1, n2)"
   ]
  },
  {
   "cell_type": "code",
   "execution_count": 277,
   "id": "69539e12",
   "metadata": {},
   "outputs": [
    {
     "data": {
      "text/plain": [
       "array([10, 20, 30, 40])"
      ]
     },
     "execution_count": 277,
     "metadata": {},
     "output_type": "execute_result"
    }
   ],
   "source": [
    "np.setdiff1d(n1, n2)"
   ]
  },
  {
   "cell_type": "code",
   "execution_count": 278,
   "id": "d97364d5",
   "metadata": {},
   "outputs": [
    {
     "data": {
      "text/plain": [
       "array([70, 80, 90])"
      ]
     },
     "execution_count": 278,
     "metadata": {},
     "output_type": "execute_result"
    }
   ],
   "source": [
    "np.setdiff1d(n2, n1)"
   ]
  },
  {
   "cell_type": "markdown",
   "id": "aac8830c",
   "metadata": {},
   "source": [
    "# numpy Array Mathematics"
   ]
  },
  {
   "cell_type": "markdown",
   "id": "67c3c995",
   "metadata": {},
   "source": [
    "### Addition Of Numpy Arrays"
   ]
  },
  {
   "cell_type": "code",
   "execution_count": 279,
   "id": "a52d19ef",
   "metadata": {},
   "outputs": [],
   "source": [
    "n1 = np.array([10, 20])"
   ]
  },
  {
   "cell_type": "code",
   "execution_count": 280,
   "id": "569f1187",
   "metadata": {},
   "outputs": [],
   "source": [
    "n2 = np.array([30, 40])"
   ]
  },
  {
   "cell_type": "code",
   "execution_count": 281,
   "id": "3b430da3",
   "metadata": {},
   "outputs": [
    {
     "data": {
      "text/plain": [
       "100"
      ]
     },
     "execution_count": 281,
     "metadata": {},
     "output_type": "execute_result"
    }
   ],
   "source": [
    "np.sum([n1, n2])"
   ]
  },
  {
   "cell_type": "code",
   "execution_count": 282,
   "id": "6a5e6716",
   "metadata": {},
   "outputs": [
    {
     "data": {
      "text/plain": [
       "array([40, 60])"
      ]
     },
     "execution_count": 282,
     "metadata": {},
     "output_type": "execute_result"
    }
   ],
   "source": [
    "np.sum([n1, n2], axis = 0)"
   ]
  },
  {
   "cell_type": "code",
   "execution_count": 283,
   "id": "468658f7",
   "metadata": {},
   "outputs": [
    {
     "data": {
      "text/plain": [
       "array([30, 70])"
      ]
     },
     "execution_count": 283,
     "metadata": {},
     "output_type": "execute_result"
    }
   ],
   "source": [
    "np.sum([n1, n2], axis = 1)"
   ]
  },
  {
   "cell_type": "markdown",
   "id": "bb9e36b6",
   "metadata": {},
   "source": [
    "### Basic Addition"
   ]
  },
  {
   "cell_type": "code",
   "execution_count": 284,
   "id": "a5e8500b",
   "metadata": {},
   "outputs": [],
   "source": [
    " n1 = np.array([10, 20, 30])"
   ]
  },
  {
   "cell_type": "code",
   "execution_count": 285,
   "id": "f6b68d3d",
   "metadata": {},
   "outputs": [
    {
     "data": {
      "text/plain": [
       "array([11, 21, 31])"
      ]
     },
     "execution_count": 285,
     "metadata": {},
     "output_type": "execute_result"
    }
   ],
   "source": [
    "n1 = n1 + 1\n",
    "n1"
   ]
  },
  {
   "cell_type": "markdown",
   "id": "6935e625",
   "metadata": {},
   "source": [
    "### Basic Subtraction"
   ]
  },
  {
   "cell_type": "code",
   "execution_count": 286,
   "id": "875bf0c5",
   "metadata": {},
   "outputs": [],
   "source": [
    " n1 = np.array([10, 20, 30])"
   ]
  },
  {
   "cell_type": "code",
   "execution_count": 287,
   "id": "794e5ae2",
   "metadata": {},
   "outputs": [
    {
     "data": {
      "text/plain": [
       "array([ 9, 19, 29])"
      ]
     },
     "execution_count": 287,
     "metadata": {},
     "output_type": "execute_result"
    }
   ],
   "source": [
    "n1 = n1 - 1\n",
    "n1"
   ]
  },
  {
   "cell_type": "markdown",
   "id": "1a7407c2",
   "metadata": {},
   "source": [
    "### Basic Multiplication"
   ]
  },
  {
   "cell_type": "code",
   "execution_count": 288,
   "id": "1586480e",
   "metadata": {},
   "outputs": [],
   "source": [
    " n1 = np.array([10, 20, 30])"
   ]
  },
  {
   "cell_type": "code",
   "execution_count": 289,
   "id": "52635284",
   "metadata": {},
   "outputs": [
    {
     "data": {
      "text/plain": [
       "array([20, 40, 60])"
      ]
     },
     "execution_count": 289,
     "metadata": {},
     "output_type": "execute_result"
    }
   ],
   "source": [
    "n1 = n1 * 2\n",
    "n1"
   ]
  },
  {
   "cell_type": "markdown",
   "id": "07391ed6",
   "metadata": {},
   "source": [
    "### Basic Division"
   ]
  },
  {
   "cell_type": "code",
   "execution_count": 290,
   "id": "5d391eac",
   "metadata": {},
   "outputs": [],
   "source": [
    " n1 = np.array([10, 20, 30])"
   ]
  },
  {
   "cell_type": "code",
   "execution_count": 291,
   "id": "8777dc44",
   "metadata": {},
   "outputs": [
    {
     "data": {
      "text/plain": [
       "array([ 5., 10., 15.])"
      ]
     },
     "execution_count": 291,
     "metadata": {},
     "output_type": "execute_result"
    }
   ],
   "source": [
    "n1 = n1 / 2\n",
    "n1"
   ]
  },
  {
   "cell_type": "markdown",
   "id": "df415a69",
   "metadata": {},
   "source": [
    "# numpy Math Functions"
   ]
  },
  {
   "cell_type": "markdown",
   "id": "df269854",
   "metadata": {},
   "source": [
    "### Mean"
   ]
  },
  {
   "cell_type": "markdown",
   "id": "86391e9b",
   "metadata": {},
   "source": [
    "There are several kinds of mean in mathematics, especially in statistics. For a data set, the arithmetic mean, also known as arithmetic average, is a central value of a finite set of numbers: specifically, the sum of the values divided by the number of values."
   ]
  },
  {
   "attachments": {
    "Mean-Examples-2.jpeg": {
     "image/jpeg": "[encoded data removed]"
    }
   },
   "cell_type": "markdown",
   "id": "801c7257",
   "metadata": {},
   "source": [
    "![Mean-Examples-2.jpeg](attachment:Mean-Examples-2.jpeg)"
   ]
  },
  {
   "cell_type": "code",
   "execution_count": 292,
   "id": "84a4b933",
   "metadata": {},
   "outputs": [],
   "source": [
    "n1 = np.array([10, 20, 30, 40, 50, 60])"
   ]
  },
  {
   "cell_type": "code",
   "execution_count": 293,
   "id": "f917d7d9",
   "metadata": {},
   "outputs": [
    {
     "data": {
      "text/plain": [
       "35.0"
      ]
     },
     "execution_count": 293,
     "metadata": {},
     "output_type": "execute_result"
    }
   ],
   "source": [
    "np.mean(n1)"
   ]
  },
  {
   "cell_type": "markdown",
   "id": "9d2fe745",
   "metadata": {},
   "source": [
    "### Median"
   ]
  },
  {
   "cell_type": "markdown",
   "id": "2bc56a15",
   "metadata": {},
   "source": [
    "In statistics and probability theory, the median is the value separating the higher half from the lower half of a data sample, a population, or a probability distribution. For a data set, it may be thought of as \"the middle\" value."
   ]
  },
  {
   "attachments": {
    "median_formula.svg": {
     "image/svg+xml": [
      "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"
     ]
    }
   },
   "cell_type": "markdown",
   "id": "6687ec43",
   "metadata": {},
   "source": [
    "![median_formula.svg](attachment:median_formula.svg)"
   ]
  },
  {
   "cell_type": "code",
   "execution_count": 294,
   "id": "4aded175",
   "metadata": {},
   "outputs": [],
   "source": [
    "n2 = np.array([11, 22, 33, 44, 55, 66])"
   ]
  },
  {
   "cell_type": "code",
   "execution_count": 295,
   "id": "a5ac28b2",
   "metadata": {},
   "outputs": [
    {
     "data": {
      "text/plain": [
       "38.5"
      ]
     },
     "execution_count": 295,
     "metadata": {},
     "output_type": "execute_result"
    }
   ],
   "source": [
    "np.median(n2)"
   ]
  },
  {
   "cell_type": "markdown",
   "id": "d0860309",
   "metadata": {},
   "source": [
    "### Standard Divitions"
   ]
  },
  {
   "cell_type": "markdown",
   "id": "66dd0c1e",
   "metadata": {},
   "source": [
    "In statistics, the standard deviation is a measure of the amount of variation or dispersion of a set of values. A low standard deviation indicates that the values tend to be close to the mean of the set, while a high standard deviation indicates that the values are spread out over a wider range."
   ]
  },
  {
   "attachments": {
    "population_standard_deviation.svg": {
     "image/svg+xml": [
      "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"
     ]
    }
   },
   "cell_type": "markdown",
   "id": "e1440d23",
   "metadata": {},
   "source": [
    "![population_standard_deviation.svg](attachment:population_standard_deviation.svg)ggg"
   ]
  },
  {
   "cell_type": "code",
   "execution_count": 296,
   "id": "fc720d61",
   "metadata": {},
   "outputs": [],
   "source": [
    "n3 = np.array([91, 81, 71, 61, 51, 41])"
   ]
  },
  {
   "cell_type": "code",
   "execution_count": 297,
   "id": "a1cd78d9",
   "metadata": {},
   "outputs": [
    {
     "data": {
      "text/plain": [
       "17.07825127659933"
      ]
     },
     "execution_count": 297,
     "metadata": {},
     "output_type": "execute_result"
    }
   ],
   "source": [
    "np.std(n3)"
   ]
  },
  {
   "cell_type": "markdown",
   "id": "299bb76b",
   "metadata": {},
   "source": [
    "# numpy save and load"
   ]
  },
  {
   "cell_type": "markdown",
   "id": "c3491462",
   "metadata": {},
   "source": [
    "### Saving Numpy Array"
   ]
  },
  {
   "cell_type": "code",
   "execution_count": 298,
   "id": "3a617290",
   "metadata": {},
   "outputs": [],
   "source": [
    "n1 = np.array([10, 20, 30, 40, 50, 60])"
   ]
  },
  {
   "cell_type": "code",
   "execution_count": 299,
   "id": "dd5c85a7",
   "metadata": {},
   "outputs": [],
   "source": [
    "np.save('myarray', n1)"
   ]
  },
  {
   "cell_type": "code",
   "execution_count": 300,
   "id": "a2c61f27",
   "metadata": {},
   "outputs": [
    {
     "data": {
      "text/plain": [
       "array([10, 20, 30, 40, 50, 60])"
      ]
     },
     "execution_count": 300,
     "metadata": {},
     "output_type": "execute_result"
    }
   ],
   "source": [
    "n2 = np.load('myarray.npy')\n",
    "n2"
   ]
  }
 ],
 "metadata": {
  "kernelspec": {
   "display_name": "Python 3 (ipykernel)",
   "language": "python",
   "name": "python3"
  },
  "language_info": {
   "codemirror_mode": {
    "name": "ipython",
    "version": 3
   },
   "file_extension": ".py",
   "mimetype": "text/x-python",
   "name": "python",
   "nbconvert_exporter": "python",
   "pygments_lexer": "ipython3",
   "version": "3.8.8"
  }
 },
 "nbformat": 4,
 "nbformat_minor": 5
}
